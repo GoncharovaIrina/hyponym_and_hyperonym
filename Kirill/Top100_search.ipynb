{
  "nbformat": 4,
  "nbformat_minor": 0,
  "metadata": {
    "colab": {
      "name": "Top100_search.ipynb",
      "provenance": [],
      "collapsed_sections": [],
      "machine_shape": "hm"
    },
    "kernelspec": {
      "name": "python3",
      "display_name": "Python 3"
    }
  },
  "cells": [
    {
      "cell_type": "code",
      "metadata": {
        "id": "IBlhFf7_nxfq",
        "colab_type": "code",
        "colab": {}
      },
      "source": [
        "from google.colab import files\n",
        "\n",
        "import pandas as pd\n",
        "import csv"
      ],
      "execution_count": 0,
      "outputs": []
    },
    {
      "cell_type": "code",
      "metadata": {
        "id": "sivW43H3n70h",
        "colab_type": "code",
        "outputId": "061dd662-ce2f-49c0-da9c-a0e809f11a80",
        "colab": {
          "base_uri": "https://localhost:8080/",
          "height": 187
        }
      },
      "source": [
        "!pip install annoy"
      ],
      "execution_count": 2,
      "outputs": [
        {
          "output_type": "stream",
          "text": [
            "Collecting annoy\n",
            "\u001b[?25l  Downloading https://files.pythonhosted.org/packages/00/15/5a9db225ebda93a235aebd5e42bbf83ab7035e7e4783c6cb528c635c9afb/annoy-1.16.3.tar.gz (644kB)\n",
            "\u001b[K     |████████████████████████████████| 645kB 2.8MB/s \n",
            "\u001b[?25hBuilding wheels for collected packages: annoy\n",
            "  Building wheel for annoy (setup.py) ... \u001b[?25l\u001b[?25hdone\n",
            "  Created wheel for annoy: filename=annoy-1.16.3-cp36-cp36m-linux_x86_64.whl size=297359 sha256=5c6c914a1958977d608cb8f383e9395a55d94dee671e4ecdec1ae49ffe5bf2c4\n",
            "  Stored in directory: /root/.cache/pip/wheels/f3/01/54/6ef760fe9f9fc6ba8c19cebbe6358212b5f3b5b0195c0b813f\n",
            "Successfully built annoy\n",
            "Installing collected packages: annoy\n",
            "Successfully installed annoy-1.16.3\n"
          ],
          "name": "stdout"
        }
      ]
    },
    {
      "cell_type": "markdown",
      "metadata": {
        "id": "_K_-TNUjrRpL",
        "colab_type": "text"
      },
      "source": [
        "# New Section"
      ]
    },
    {
      "cell_type": "code",
      "metadata": {
        "id": "BANPHPU-rUFY",
        "colab_type": "code",
        "outputId": "b92ed7e2-135a-477f-b924-c487a81d6b3b",
        "colab": {
          "base_uri": "https://localhost:8080/",
          "height": 122
        }
      },
      "source": [
        "from google.colab import drive\n",
        "drive.mount('/content/drive')"
      ],
      "execution_count": 3,
      "outputs": [
        {
          "output_type": "stream",
          "text": [
            "Go to this URL in a browser: https://accounts.google.com/o/oauth2/auth?client_id=947318989803-6bn6qk8qdgf4n4g3pfee6491hc0brc4i.apps.googleusercontent.com&redirect_uri=urn%3aietf%3awg%3aoauth%3a2.0%3aoob&response_type=code&scope=email%20https%3a%2f%2fwww.googleapis.com%2fauth%2fdocs.test%20https%3a%2f%2fwww.googleapis.com%2fauth%2fdrive%20https%3a%2f%2fwww.googleapis.com%2fauth%2fdrive.photos.readonly%20https%3a%2f%2fwww.googleapis.com%2fauth%2fpeopleapi.readonly\n",
            "\n",
            "Enter your authorization code:\n",
            "··········\n",
            "Mounted at /content/drive\n"
          ],
          "name": "stdout"
        }
      ]
    },
    {
      "cell_type": "code",
      "metadata": {
        "id": "4CtBvbi_sKQF",
        "colab_type": "code",
        "colab": {}
      },
      "source": [
        "df_nouns = pd.read_csv('/content/drive/My Drive/Colab Notebooks/Fasttext vectors/nouns_private.csv')\n",
        "df_ruwordnet = pd.read_csv('/content/drive/My Drive/Colab Notebooks/Fasttext vectors/ruWordNet_vectors.csv')"
      ],
      "execution_count": 0,
      "outputs": []
    },
    {
      "cell_type": "code",
      "metadata": {
        "id": "74VwndpjkxVY",
        "colab_type": "code",
        "colab": {}
      },
      "source": [
        "nouns_names = df_nouns['Word'].to_list()\n",
        "nouns_vectors = df_nouns['Vector'].to_list()\n",
        "\n",
        "ruwordnet_names = df_ruwordnet['Word'].to_list()\n",
        "ruwordnet_vectors = df_ruwordnet['Vector'].to_list()"
      ],
      "execution_count": 0,
      "outputs": []
    },
    {
      "cell_type": "code",
      "metadata": {
        "id": "8WHXBUu0DIsY",
        "colab_type": "code",
        "colab": {}
      },
      "source": [
        "import ast\n",
        "\n",
        "for i in range(len(nouns_vectors)):\n",
        "    nouns_vectors[i] = ast.literal_eval(nouns_vectors[i])\n",
        "\n",
        "for i in range(len(ruwordnet_vectors)):\n",
        "    ruwordnet_vectors[i] = ast.literal_eval(ruwordnet_vectors[i])"
      ],
      "execution_count": 0,
      "outputs": []
    },
    {
      "cell_type": "code",
      "metadata": {
        "id": "Eat0HjBz3ySy",
        "colab_type": "code",
        "colab": {}
      },
      "source": [
        "nouns_dict = dict(zip(nouns_names, nouns_vectors))\n",
        "ruwordnet_dict = dict(zip(ruwordnet_names, ruwordnet_vectors))"
      ],
      "execution_count": 0,
      "outputs": []
    },
    {
      "cell_type": "code",
      "metadata": {
        "id": "GslblPo32qiW",
        "colab_type": "code",
        "colab": {
          "base_uri": "https://localhost:8080/",
          "height": 34
        },
        "outputId": "fe286c9e-d9c9-4f5e-a9d3-99c93f25bfa6"
      },
      "source": [
        "from annoy import AnnoyIndex\n",
        "import random\n",
        "\n",
        "f = 300\n",
        "t = AnnoyIndex(f, 'angular')  # Length of item vector that will be indexed\n",
        "for i in range(len(ruwordnet_names)):\n",
        "    v = ruwordnet_vectors[i]\n",
        "    t.add_item(i, v)\n",
        "\n",
        "t.build(100) # 10 trees"
      ],
      "execution_count": 8,
      "outputs": [
        {
          "output_type": "execute_result",
          "data": {
            "text/plain": [
              "True"
            ]
          },
          "metadata": {
            "tags": []
          },
          "execution_count": 8
        }
      ]
    },
    {
      "cell_type": "code",
      "metadata": {
        "id": "jGv14IQGMd5j",
        "colab_type": "code",
        "colab": {
          "base_uri": "https://localhost:8080/",
          "height": 34
        },
        "outputId": "84dfe4ee-e5a6-4823-b857-5893da962279"
      },
      "source": [
        "nouns_names[123]"
      ],
      "execution_count": 9,
      "outputs": [
        {
          "output_type": "execute_result",
          "data": {
            "text/plain": [
              "'беляк'"
            ]
          },
          "metadata": {
            "tags": []
          },
          "execution_count": 9
        }
      ]
    },
    {
      "cell_type": "code",
      "metadata": {
        "id": "FDHf0QUzLS5r",
        "colab_type": "code",
        "colab": {}
      },
      "source": [
        "idxs = t.get_nns_by_vector(nouns_vectors[123], 100)"
      ],
      "execution_count": 0,
      "outputs": []
    },
    {
      "cell_type": "code",
      "metadata": {
        "id": "7uP_g7ZvTpk1",
        "colab_type": "code",
        "colab": {
          "base_uri": "https://localhost:8080/",
          "height": 357
        },
        "outputId": "77794eb7-0f33-4538-fef5-e74315223d72"
      },
      "source": [
        "words = [ruwordnet_names[i] for i in idxs]\n",
        "words[:20]"
      ],
      "execution_count": 11,
      "outputs": [
        {
          "output_type": "execute_result",
          "data": {
            "text/plain": [
              "['белая',\n",
              " 'белая',\n",
              " 'белен',\n",
              " 'белфаст',\n",
              " 'белый',\n",
              " 'белый',\n",
              " 'белое',\n",
              " 'белоруси',\n",
              " 'белоруси',\n",
              " 'белебей',\n",
              " 'белорусия',\n",
              " 'белиз',\n",
              " 'белоруссия',\n",
              " 'бельгия',\n",
              " 'рассудительно-серьезный',\n",
              " 'белизны',\n",
              " 'печенка',\n",
              " 'берингово',\n",
              " 'значимости',\n",
              " 'беспорядочный']"
            ]
          },
          "metadata": {
            "tags": []
          },
          "execution_count": 11
        }
      ]
    },
    {
      "cell_type": "code",
      "metadata": {
        "id": "V9IbInPaM3ZT",
        "colab_type": "code",
        "colab": {}
      },
      "source": [
        "top100_dict = dict()\n",
        "\n",
        "for noun in nouns_names:\n",
        "    v = nouns_dict[noun]\n",
        "    idxs = t.get_nns_by_vector(v, 200)\n",
        "    words = [ruwordnet_names[i] for i in idxs]\n",
        "    top100_dict[noun] = words"
      ],
      "execution_count": 0,
      "outputs": []
    },
    {
      "cell_type": "code",
      "metadata": {
        "id": "inQ-iVIQNeKi",
        "colab_type": "code",
        "colab": {}
      },
      "source": [
        "import csv\n",
        "\n",
        "with open('top100.csv', 'w') as f:\n",
        "    for key in top100_dict.keys():\n",
        "        f.write(\"%s,%s\\n\"%(key,top100_dict[key]))"
      ],
      "execution_count": 0,
      "outputs": []
    },
    {
      "cell_type": "code",
      "metadata": {
        "id": "XQ1JBB1eYxPz",
        "colab_type": "code",
        "colab": {
          "base_uri": "https://localhost:8080/",
          "height": 71
        },
        "outputId": "36e77b3a-9e77-44c4-9c4c-0c7fc3f9416a"
      },
      "source": [
        "i = 29\n",
        "\n",
        "n = nouns_names[i]\n",
        "v = top100_dict[n]\n",
        "\n",
        "print(n)\n",
        "print(v)"
      ],
      "execution_count": 14,
      "outputs": [
        {
          "output_type": "stream",
          "text": [
            "амвон\n",
            "['самаркандская', 'подобрано', 'спортивно-техническая', 'плоцк', 'образовательные', 'подмыть', 'годоберинцы', 'медикаментозная', 'удовольствием', 'предвкушать', 'инженерно-технический', 'кредиторская', 'ореол', 'торонто', 'дерби', 'объединенная', 'прилагательное', 'камертон', 'средиземное', 'преуспевать', 'многосторонние', 'кустанайская', 'клетка', 'клетка', 'аделаида', 'субаренда', 'причал', 'ламаизм', 'шпионская', 'постороннее', 'постороннее', 'постороннее', 'взаимодействие', 'взаимодействие', 'поволжья', 'некоторых', 'бистро', 'аренда', 'волгоградская', 'игру', 'вредительство', 'цианид', 'канализация', 'распределительное', 'рефрен', 'джалал-абадская', 'джинсовая', 'сынок', 'выездная', 'транспортно-экспедиторское', 'некоренное', 'авторская', 'самарканд', 'простор', 'объединять', 'госавтоинспектор', 'муфта', 'абонентская', 'пристав-исполнитель', 'сутулый', 'спешная', 'деревообрабатывающее', 'канцелярская', 'треска', 'бессмертный', 'портретист', 'берестяная', 'деревьев', 'порта', 'порта', 'постельное', 'калининградская', 'детонатор', 'татарстанцы', 'кнессет', 'столовая', 'фламинго', 'повелительное', 'чечни', 'камерунцы', 'самопожертвование', 'курганская', 'брестская', 'пивоваренная', 'довольствие', 'деревянная', 'наиграть', 'импровизатор', 'полиомиелит', 'украшать', 'невель', 'камерная', 'артистическая', 'подобранный', 'экспедитор', 'нижегородская', 'мещерская', 'предсказуемый', 'несравнимый', 'наследство', 'провокатор', 'мурлыкать', 'рояль', 'уязвимое', 'монитор', 'поморье', 'прерогатива', 'кузнецк', 'авангард', 'предпосылка', 'повелитель', 'венерическая', 'содействие', 'содействие', 'чеченская', 'приволжского', 'импортер', 'прилив', 'арендная', 'проветривание', 'турбогенератор', 'айсберг', 'предписать', 'полдник', 'морская', 'морская', 'вянта', 'торпедная', 'фрязино', 'обет', 'шифрование', 'такелаж', 'музыковед', 'ниток', 'водолазные', 'хитрость', 'рабская', 'посадка', 'побудить', 'побудить', 'ребрендинг', 'растительное', 'подобрать', 'средиземноморское', 'накапливать', 'привал', 'повествовательное', 'повествовательное', 'тула', 'подтверждающее', 'пробежать', 'пробежать', 'клетку', 'соревновании', 'поведенческая', 'милицейская', 'авангардист', 'сырокопченые', 'государственные', 'воронежская', 'дерзать', 'баптист', 'предбанник', 'соревнования', 'приборостроительная', 'вологодская', 'талды-курганская', 'дагестанцы', 'мулла', 'тормоз', 'чуйская', 'пренебрегать', 'застой', 'образовательный', 'сумская', 'древнеримская', 'согласованный', 'согласованный', 'покорение', 'шенгенская', 'деревообрабатывающая', 'снежная', 'вступление', 'вступление', 'интернет-газета', 'приемник-распределитель', 'мужская', 'районная', 'признаку', 'лапта', 'евразия', 'биографии', 'гараж', 'мурманская', 'привет', 'обрызгать', 'путеводитель', 'вогнутая', 'стимулирование', 'тигренок']\n"
          ],
          "name": "stdout"
        }
      ]
    },
    {
      "cell_type": "code",
      "metadata": {
        "id": "SId3dJNeZRSx",
        "colab_type": "code",
        "colab": {}
      },
      "source": [
        "from gensim.models.wrappers import FastText\n",
        "model = FastText.load_fasttext_format('/content/drive/My Drive/Colab Notebooks/ft_native_300_ru_wiki_lenta_lower_case.bin')"
      ],
      "execution_count": 0,
      "outputs": []
    },
    {
      "cell_type": "code",
      "metadata": {
        "id": "kBubbnpKl25S",
        "colab_type": "code",
        "colab": {
          "base_uri": "https://localhost:8080/",
          "height": 54
        },
        "outputId": "20403281-508c-4d5c-8e1a-bd7d64c36429"
      },
      "source": [
        "v = model['солипсизм']\n",
        "idxs = t.get_nns_by_vector(v, 100)\n",
        "words = [ruwordnet_names[i] for i in idxs]\n",
        "print(words)"
      ],
      "execution_count": 23,
      "outputs": [
        {
          "output_type": "stream",
          "text": [
            "['марксизм', 'красноречие', 'тугим', 'половодье', 'наладчица', 'люблин', 'бизнес-класс', 'перечень', 'перечень', 'перечень', 'перечень', 'иоканга', 'фольклорист', 'северокорейцы', 'красноярск', 'катапультироваться', 'красновишерск', 'красноярский', 'лыко', 'красноярцы', 'гонорея', 'евангельские', 'обл', 'перевальск', 'шоппинг', 'перетянуть', 'перетянуть', 'перевернуться', 'перевернуться', 'перевернуться', 'красноград', 'организме', 'букварь', 'переключатель', 'артериальное', 'перевестись', 'щекино', 'балкон', 'пересменка', 'экипировать', 'сысерть', 'подтянуть', 'потягиваться', 'вспомогательное', 'речью', 'речью', 'компенсировать', 'обтекатель', 'передергивание', 'перекись', 'электробезопасность', 'спереди', 'эфедрон', 'балахна', 'разведывательная', 'мужа', 'передач', 'банкинг', 'опись', 'передаться', 'красноармейск', 'музыкальное', 'музыкальное', 'тельца', 'квадроцикл', 'овощей', 'красящий', 'опровергнуть', 'переворот', 'рассуждение', 'рассуждение', 'бульдозерист', 'альтист', 'красноречивый', 'результирующий', 'разворот', 'бизнеса', 'перерисовать', 'перерисовать', 'задиристый', 'сейшельские', 'ориентироваться', 'говорящего', 'развлечения', 'разлететься', 'ванилин', 'усесть', 'спрыгнуть', 'микрорентген', 'монгольские', 'безопасности', 'перевязать', 'перевязать', 'взрывоопасность', 'путевое', 'перегнуть', 'перетасовать', 'самопожертвование', 'индивидуализировать', 'обдуть']\n"
          ],
          "name": "stdout"
        }
      ]
    }
  ]
}